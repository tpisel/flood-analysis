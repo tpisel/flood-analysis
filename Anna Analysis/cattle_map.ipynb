{
 "cells": [
  {
   "cell_type": "code",
   "execution_count": 11,
   "id": "e04400fc",
   "metadata": {},
   "outputs": [],
   "source": [
    "import hvplot.pandas\n",
    "import pandas as pd\n",
    "import requests\n",
    "from pathlib import Path"
   ]
  },
  {
   "cell_type": "code",
   "execution_count": 12,
   "id": "2680971e",
   "metadata": {},
   "outputs": [],
   "source": [
    "# Data obtained from Beef Central https://www.beefcentral.com/production/australias-20-largest-regions-for-cattle-population/"
   ]
  },
  {
   "cell_type": "code",
   "execution_count": 18,
   "id": "0ac6e4e6",
   "metadata": {},
   "outputs": [
    {
     "data": {
      "text/html": [
       "<div>\n",
       "<style scoped>\n",
       "    .dataframe tbody tr th:only-of-type {\n",
       "        vertical-align: middle;\n",
       "    }\n",
       "\n",
       "    .dataframe tbody tr th {\n",
       "        vertical-align: top;\n",
       "    }\n",
       "\n",
       "    .dataframe thead th {\n",
       "        text-align: right;\n",
       "    }\n",
       "</style>\n",
       "<table border=\"1\" class=\"dataframe\">\n",
       "  <thead>\n",
       "    <tr style=\"text-align: right;\">\n",
       "      <th></th>\n",
       "      <th>Area</th>\n",
       "      <th>Herd Size</th>\n",
       "    </tr>\n",
       "  </thead>\n",
       "  <tbody>\n",
       "    <tr>\n",
       "      <th>1</th>\n",
       "      <td>Burdekin</td>\n",
       "      <td>1300370</td>\n",
       "    </tr>\n",
       "    <tr>\n",
       "      <th>2</th>\n",
       "      <td>Border Rivers Maranoa-Balonne</td>\n",
       "      <td>1206058</td>\n",
       "    </tr>\n",
       "    <tr>\n",
       "      <th>3</th>\n",
       "      <td>Desert Channels</td>\n",
       "      <td>1111362</td>\n",
       "    </tr>\n",
       "    <tr>\n",
       "      <th>4</th>\n",
       "      <td>Southern Gulf</td>\n",
       "      <td>1068859</td>\n",
       "    </tr>\n",
       "    <tr>\n",
       "      <th>5</th>\n",
       "      <td>Northern Gulf</td>\n",
       "      <td>833925</td>\n",
       "    </tr>\n",
       "    <tr>\n",
       "      <th>6</th>\n",
       "      <td>Burnett Mary</td>\n",
       "      <td>799859</td>\n",
       "    </tr>\n",
       "    <tr>\n",
       "      <th>0</th>\n",
       "      <td>Fitzroy</td>\n",
       "      <td>643572</td>\n",
       "    </tr>\n",
       "  </tbody>\n",
       "</table>\n",
       "</div>"
      ],
      "text/plain": [
       "                            Area  Herd Size\n",
       "1                       Burdekin    1300370\n",
       "2  Border Rivers Maranoa-Balonne    1206058\n",
       "3                Desert Channels    1111362\n",
       "4                  Southern Gulf    1068859\n",
       "5                  Northern Gulf     833925\n",
       "6                   Burnett Mary     799859\n",
       "0                        Fitzroy     643572"
      ]
     },
     "execution_count": 18,
     "metadata": {},
     "output_type": "execute_result"
    }
   ],
   "source": [
    "cattle_df = pd.DataFrame({\"Area\": [\"Fitzroy\", \"Burdekin\", \"Border Rivers Maranoa-Balonne\",\\\n",
    "                \"Desert Channels\", \"Southern Gulf\", \"Northern Gulf\", \"Burnett Mary\"], \"Herd Size\": [643572, 1300370, 1206058, 1111362, 1068859, 833925, 799859]})\n",
    "cattle_df.sort_values([\"Herd Size\"], ascending=False)"
   ]
  },
  {
   "cell_type": "code",
   "execution_count": null,
   "id": "127b9197",
   "metadata": {},
   "outputs": [],
   "source": [
    "base_url = \"https://api.geoapify.com/v1/geocode/search?\"\n",
    " cities = [Airdmillan, Burdekin,] [Lightening Ridge, Border Rivers ]"
   ]
  }
 ],
 "metadata": {
  "kernelspec": {
   "display_name": "Python 3 (ipykernel)",
   "language": "python",
   "name": "python3"
  },
  "language_info": {
   "codemirror_mode": {
    "name": "ipython",
    "version": 3
   },
   "file_extension": ".py",
   "mimetype": "text/x-python",
   "name": "python",
   "nbconvert_exporter": "python",
   "pygments_lexer": "ipython3",
   "version": "3.10.9"
  }
 },
 "nbformat": 4,
 "nbformat_minor": 5
}
