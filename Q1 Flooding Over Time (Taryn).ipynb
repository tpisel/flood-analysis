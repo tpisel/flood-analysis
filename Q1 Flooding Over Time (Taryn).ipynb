{
 "cells": [
  {
   "cell_type": "markdown",
   "id": "4bc2d6db",
   "metadata": {},
   "source": [
    "# flood-analysis\n",
    "\n",
    "Analysing the impact of climate change on Queensland Cattle markets, intermediated by increased flood events\n",
    "\n",
    "\n",
    "## Question 1: Understand the shape of flooding data over time\n",
    "\n",
    "\n",
    "**Hypotheses**\n",
    "- Increase in river discharge means increased flood risk across both cities\n",
    "- The frequency of rainfall has increased from 1990 - 2020\n",
    "- The frequency of floods has increased from 1990 - 2020\n",
    "\n",
    "**Definitions**\n",
    "- River discharge is the volume of water flowing through a river channel. This is the total volume of water flowing through a channel at any given point and is measured in cubic metres per second (cumecs). The discharge from a drainage basin depends on precipitation, evapotranspiration and storage factors. Drainage basin discharge = precipitation – evapotranspiration +/- changes in storage.\n",
    "\n",
    "**Data sources**\n",
    "- Open Meteo Flood API (GloFAS), 1990-2020, Queensland\n",
    "- https://www.internetgeography.net/topics/river-discharge/\n",
    "\n",
    "**Visualisation**\n",
    "- River discharge time series\n",
    "- Rainfall over time series\n"
   ]
  },
  {
   "cell_type": "code",
   "execution_count": 1,
   "id": "bd23834e",
   "metadata": {},
   "outputs": [],
   "source": [
    "#Import dependencies\n",
    "\n",
    "import queryscripts as qs\n",
    "import pandas as pd\n",
    "import numpy as np\n",
    "import scipy as sp\n",
    "import matplotlib.pyplot as plt\n",
    "import datetime \n"
   ]
  },
  {
   "cell_type": "code",
   "execution_count": 2,
   "id": "80dadec4",
   "metadata": {
    "scrolled": true
   },
   "outputs": [
    {
     "data": {
      "text/html": [
       "<div>\n",
       "<style scoped>\n",
       "    .dataframe tbody tr th:only-of-type {\n",
       "        vertical-align: middle;\n",
       "    }\n",
       "\n",
       "    .dataframe tbody tr th {\n",
       "        vertical-align: top;\n",
       "    }\n",
       "\n",
       "    .dataframe thead th {\n",
       "        text-align: right;\n",
       "    }\n",
       "</style>\n",
       "<table border=\"1\" class=\"dataframe\">\n",
       "  <thead>\n",
       "    <tr style=\"text-align: right;\">\n",
       "      <th></th>\n",
       "      <th>date</th>\n",
       "      <th>location</th>\n",
       "      <th>latitude</th>\n",
       "      <th>longitude</th>\n",
       "      <th>temperature_2m_max</th>\n",
       "      <th>temperature_2m_min</th>\n",
       "      <th>temperature_2m_mean</th>\n",
       "      <th>precipitation_sum</th>\n",
       "      <th>precipitation_hours</th>\n",
       "      <th>windspeed_10m_max</th>\n",
       "      <th>et0_fao_evapotranspiration</th>\n",
       "      <th>river_discharge</th>\n",
       "    </tr>\n",
       "  </thead>\n",
       "  <tbody>\n",
       "    <tr>\n",
       "      <th>0</th>\n",
       "      <td>1990-01-01</td>\n",
       "      <td>Brisbane</td>\n",
       "      <td>-27.5</td>\n",
       "      <td>153.0</td>\n",
       "      <td>28.6</td>\n",
       "      <td>18.3</td>\n",
       "      <td>22.5</td>\n",
       "      <td>0.0</td>\n",
       "      <td>0.0</td>\n",
       "      <td>14.1</td>\n",
       "      <td>5.97</td>\n",
       "      <td>33.20</td>\n",
       "    </tr>\n",
       "    <tr>\n",
       "      <th>1</th>\n",
       "      <td>1990-01-02</td>\n",
       "      <td>Brisbane</td>\n",
       "      <td>-27.5</td>\n",
       "      <td>153.0</td>\n",
       "      <td>29.3</td>\n",
       "      <td>17.0</td>\n",
       "      <td>22.9</td>\n",
       "      <td>0.0</td>\n",
       "      <td>0.0</td>\n",
       "      <td>13.4</td>\n",
       "      <td>6.23</td>\n",
       "      <td>31.58</td>\n",
       "    </tr>\n",
       "    <tr>\n",
       "      <th>2</th>\n",
       "      <td>1990-01-03</td>\n",
       "      <td>Brisbane</td>\n",
       "      <td>-27.5</td>\n",
       "      <td>153.0</td>\n",
       "      <td>30.8</td>\n",
       "      <td>19.3</td>\n",
       "      <td>24.1</td>\n",
       "      <td>0.0</td>\n",
       "      <td>0.0</td>\n",
       "      <td>13.1</td>\n",
       "      <td>6.46</td>\n",
       "      <td>30.41</td>\n",
       "    </tr>\n",
       "    <tr>\n",
       "      <th>3</th>\n",
       "      <td>1990-01-04</td>\n",
       "      <td>Brisbane</td>\n",
       "      <td>-27.5</td>\n",
       "      <td>153.0</td>\n",
       "      <td>35.5</td>\n",
       "      <td>18.5</td>\n",
       "      <td>26.0</td>\n",
       "      <td>0.0</td>\n",
       "      <td>0.0</td>\n",
       "      <td>16.8</td>\n",
       "      <td>7.28</td>\n",
       "      <td>29.48</td>\n",
       "    </tr>\n",
       "    <tr>\n",
       "      <th>4</th>\n",
       "      <td>1990-01-05</td>\n",
       "      <td>Brisbane</td>\n",
       "      <td>-27.5</td>\n",
       "      <td>153.0</td>\n",
       "      <td>27.4</td>\n",
       "      <td>22.0</td>\n",
       "      <td>24.3</td>\n",
       "      <td>0.0</td>\n",
       "      <td>0.0</td>\n",
       "      <td>19.4</td>\n",
       "      <td>4.71</td>\n",
       "      <td>28.85</td>\n",
       "    </tr>\n",
       "  </tbody>\n",
       "</table>\n",
       "</div>"
      ],
      "text/plain": [
       "         date  location  latitude  longitude  temperature_2m_max  \\\n",
       "0  1990-01-01  Brisbane     -27.5      153.0                28.6   \n",
       "1  1990-01-02  Brisbane     -27.5      153.0                29.3   \n",
       "2  1990-01-03  Brisbane     -27.5      153.0                30.8   \n",
       "3  1990-01-04  Brisbane     -27.5      153.0                35.5   \n",
       "4  1990-01-05  Brisbane     -27.5      153.0                27.4   \n",
       "\n",
       "   temperature_2m_min  temperature_2m_mean  precipitation_sum  \\\n",
       "0                18.3                 22.5                0.0   \n",
       "1                17.0                 22.9                0.0   \n",
       "2                19.3                 24.1                0.0   \n",
       "3                18.5                 26.0                0.0   \n",
       "4                22.0                 24.3                0.0   \n",
       "\n",
       "   precipitation_hours  windspeed_10m_max  et0_fao_evapotranspiration  \\\n",
       "0                  0.0               14.1                        5.97   \n",
       "1                  0.0               13.4                        6.23   \n",
       "2                  0.0               13.1                        6.46   \n",
       "3                  0.0               16.8                        7.28   \n",
       "4                  0.0               19.4                        4.71   \n",
       "\n",
       "   river_discharge  \n",
       "0            33.20  \n",
       "1            31.58  \n",
       "2            30.41  \n",
       "3            29.48  \n",
       "4            28.85  "
      ]
     },
     "execution_count": 2,
     "metadata": {},
     "output_type": "execute_result"
    }
   ],
   "source": [
    "# Read and display csv file\n",
    "flood_data = pd.read_csv(\"Data/flooddata.csv\")\n",
    "flood_data.head()"
   ]
  },
  {
   "cell_type": "code",
   "execution_count": 3,
   "id": "9f15b75f",
   "metadata": {},
   "outputs": [
    {
     "data": {
      "text/plain": [
       "array(['Brisbane', 'Townsville', 'Rockhampton'], dtype=object)"
      ]
     },
     "execution_count": 3,
     "metadata": {},
     "output_type": "execute_result"
    }
   ],
   "source": [
    "flood_data.location.unique()"
   ]
  },
  {
   "cell_type": "code",
   "execution_count": 4,
   "id": "412a4168",
   "metadata": {},
   "outputs": [],
   "source": [
    "#Change date date format\n",
    "flood_data[\"date\"] = flood_data[\"date\"].astype(\"datetime64[ns]\")"
   ]
  },
  {
   "cell_type": "code",
   "execution_count": 5,
   "id": "919a9211",
   "metadata": {},
   "outputs": [
    {
     "data": {
      "text/html": [
       "<div>\n",
       "<style scoped>\n",
       "    .dataframe tbody tr th:only-of-type {\n",
       "        vertical-align: middle;\n",
       "    }\n",
       "\n",
       "    .dataframe tbody tr th {\n",
       "        vertical-align: top;\n",
       "    }\n",
       "\n",
       "    .dataframe thead th {\n",
       "        text-align: right;\n",
       "    }\n",
       "</style>\n",
       "<table border=\"1\" class=\"dataframe\">\n",
       "  <thead>\n",
       "    <tr style=\"text-align: right;\">\n",
       "      <th></th>\n",
       "      <th>date</th>\n",
       "      <th>location</th>\n",
       "      <th>latitude</th>\n",
       "      <th>longitude</th>\n",
       "      <th>temperature_2m_max</th>\n",
       "      <th>temperature_2m_min</th>\n",
       "      <th>temperature_2m_mean</th>\n",
       "      <th>precipitation_sum</th>\n",
       "      <th>precipitation_hours</th>\n",
       "      <th>windspeed_10m_max</th>\n",
       "      <th>et0_fao_evapotranspiration</th>\n",
       "      <th>river_discharge</th>\n",
       "      <th>Year</th>\n",
       "    </tr>\n",
       "  </thead>\n",
       "  <tbody>\n",
       "    <tr>\n",
       "      <th>0</th>\n",
       "      <td>1990-01-01</td>\n",
       "      <td>Brisbane</td>\n",
       "      <td>-27.5</td>\n",
       "      <td>153.0</td>\n",
       "      <td>28.6</td>\n",
       "      <td>18.3</td>\n",
       "      <td>22.5</td>\n",
       "      <td>0.0</td>\n",
       "      <td>0.0</td>\n",
       "      <td>14.1</td>\n",
       "      <td>5.97</td>\n",
       "      <td>33.20</td>\n",
       "      <td>1990</td>\n",
       "    </tr>\n",
       "    <tr>\n",
       "      <th>1</th>\n",
       "      <td>1990-01-02</td>\n",
       "      <td>Brisbane</td>\n",
       "      <td>-27.5</td>\n",
       "      <td>153.0</td>\n",
       "      <td>29.3</td>\n",
       "      <td>17.0</td>\n",
       "      <td>22.9</td>\n",
       "      <td>0.0</td>\n",
       "      <td>0.0</td>\n",
       "      <td>13.4</td>\n",
       "      <td>6.23</td>\n",
       "      <td>31.58</td>\n",
       "      <td>1990</td>\n",
       "    </tr>\n",
       "    <tr>\n",
       "      <th>2</th>\n",
       "      <td>1990-01-03</td>\n",
       "      <td>Brisbane</td>\n",
       "      <td>-27.5</td>\n",
       "      <td>153.0</td>\n",
       "      <td>30.8</td>\n",
       "      <td>19.3</td>\n",
       "      <td>24.1</td>\n",
       "      <td>0.0</td>\n",
       "      <td>0.0</td>\n",
       "      <td>13.1</td>\n",
       "      <td>6.46</td>\n",
       "      <td>30.41</td>\n",
       "      <td>1990</td>\n",
       "    </tr>\n",
       "    <tr>\n",
       "      <th>3</th>\n",
       "      <td>1990-01-04</td>\n",
       "      <td>Brisbane</td>\n",
       "      <td>-27.5</td>\n",
       "      <td>153.0</td>\n",
       "      <td>35.5</td>\n",
       "      <td>18.5</td>\n",
       "      <td>26.0</td>\n",
       "      <td>0.0</td>\n",
       "      <td>0.0</td>\n",
       "      <td>16.8</td>\n",
       "      <td>7.28</td>\n",
       "      <td>29.48</td>\n",
       "      <td>1990</td>\n",
       "    </tr>\n",
       "    <tr>\n",
       "      <th>4</th>\n",
       "      <td>1990-01-05</td>\n",
       "      <td>Brisbane</td>\n",
       "      <td>-27.5</td>\n",
       "      <td>153.0</td>\n",
       "      <td>27.4</td>\n",
       "      <td>22.0</td>\n",
       "      <td>24.3</td>\n",
       "      <td>0.0</td>\n",
       "      <td>0.0</td>\n",
       "      <td>19.4</td>\n",
       "      <td>4.71</td>\n",
       "      <td>28.85</td>\n",
       "      <td>1990</td>\n",
       "    </tr>\n",
       "  </tbody>\n",
       "</table>\n",
       "</div>"
      ],
      "text/plain": [
       "        date  location  latitude  longitude  temperature_2m_max  \\\n",
       "0 1990-01-01  Brisbane     -27.5      153.0                28.6   \n",
       "1 1990-01-02  Brisbane     -27.5      153.0                29.3   \n",
       "2 1990-01-03  Brisbane     -27.5      153.0                30.8   \n",
       "3 1990-01-04  Brisbane     -27.5      153.0                35.5   \n",
       "4 1990-01-05  Brisbane     -27.5      153.0                27.4   \n",
       "\n",
       "   temperature_2m_min  temperature_2m_mean  precipitation_sum  \\\n",
       "0                18.3                 22.5                0.0   \n",
       "1                17.0                 22.9                0.0   \n",
       "2                19.3                 24.1                0.0   \n",
       "3                18.5                 26.0                0.0   \n",
       "4                22.0                 24.3                0.0   \n",
       "\n",
       "   precipitation_hours  windspeed_10m_max  et0_fao_evapotranspiration  \\\n",
       "0                  0.0               14.1                        5.97   \n",
       "1                  0.0               13.4                        6.23   \n",
       "2                  0.0               13.1                        6.46   \n",
       "3                  0.0               16.8                        7.28   \n",
       "4                  0.0               19.4                        4.71   \n",
       "\n",
       "   river_discharge  Year  \n",
       "0            33.20  1990  \n",
       "1            31.58  1990  \n",
       "2            30.41  1990  \n",
       "3            29.48  1990  \n",
       "4            28.85  1990  "
      ]
     },
     "execution_count": 5,
     "metadata": {},
     "output_type": "execute_result"
    }
   ],
   "source": [
    "#Create year series\n",
    "flood_data['Year'] = flood_data[\"date\"].dt.strftime(\"%Y\")\n",
    "flood_data.head()"
   ]
  },
  {
   "cell_type": "code",
   "execution_count": 6,
   "id": "d929d03a",
   "metadata": {},
   "outputs": [
    {
     "data": {
      "text/html": [
       "<div>\n",
       "<style scoped>\n",
       "    .dataframe tbody tr th:only-of-type {\n",
       "        vertical-align: middle;\n",
       "    }\n",
       "\n",
       "    .dataframe tbody tr th {\n",
       "        vertical-align: top;\n",
       "    }\n",
       "\n",
       "    .dataframe thead th {\n",
       "        text-align: right;\n",
       "    }\n",
       "</style>\n",
       "<table border=\"1\" class=\"dataframe\">\n",
       "  <thead>\n",
       "    <tr style=\"text-align: right;\">\n",
       "      <th></th>\n",
       "      <th>latitude</th>\n",
       "      <th>longitude</th>\n",
       "      <th>temperature_2m_max</th>\n",
       "      <th>temperature_2m_min</th>\n",
       "      <th>temperature_2m_mean</th>\n",
       "      <th>precipitation_sum</th>\n",
       "      <th>precipitation_hours</th>\n",
       "      <th>windspeed_10m_max</th>\n",
       "      <th>et0_fao_evapotranspiration</th>\n",
       "      <th>river_discharge</th>\n",
       "    </tr>\n",
       "    <tr>\n",
       "      <th>Year</th>\n",
       "      <th></th>\n",
       "      <th></th>\n",
       "      <th></th>\n",
       "      <th></th>\n",
       "      <th></th>\n",
       "      <th></th>\n",
       "      <th></th>\n",
       "      <th></th>\n",
       "      <th></th>\n",
       "      <th></th>\n",
       "    </tr>\n",
       "  </thead>\n",
       "  <tbody>\n",
       "    <tr>\n",
       "      <th>1990</th>\n",
       "      <td>-23.509667</td>\n",
       "      <td>150.307333</td>\n",
       "      <td>26.281005</td>\n",
       "      <td>17.956256</td>\n",
       "      <td>21.716895</td>\n",
       "      <td>3.076712</td>\n",
       "      <td>3.219178</td>\n",
       "      <td>16.431781</td>\n",
       "      <td>4.095187</td>\n",
       "      <td>268.974950</td>\n",
       "    </tr>\n",
       "    <tr>\n",
       "      <th>1991</th>\n",
       "      <td>-23.509667</td>\n",
       "      <td>150.307333</td>\n",
       "      <td>26.769772</td>\n",
       "      <td>18.070502</td>\n",
       "      <td>22.048584</td>\n",
       "      <td>2.079361</td>\n",
       "      <td>2.764384</td>\n",
       "      <td>15.901826</td>\n",
       "      <td>4.088767</td>\n",
       "      <td>623.549315</td>\n",
       "    </tr>\n",
       "    <tr>\n",
       "      <th>1992</th>\n",
       "      <td>-23.509667</td>\n",
       "      <td>150.307333</td>\n",
       "      <td>26.498543</td>\n",
       "      <td>18.124044</td>\n",
       "      <td>21.934699</td>\n",
       "      <td>1.805191</td>\n",
       "      <td>2.595628</td>\n",
       "      <td>15.569217</td>\n",
       "      <td>4.119308</td>\n",
       "      <td>35.107650</td>\n",
       "    </tr>\n",
       "    <tr>\n",
       "      <th>1993</th>\n",
       "      <td>-23.509667</td>\n",
       "      <td>150.307333</td>\n",
       "      <td>26.522922</td>\n",
       "      <td>18.412511</td>\n",
       "      <td>22.085845</td>\n",
       "      <td>1.189589</td>\n",
       "      <td>2.369863</td>\n",
       "      <td>16.222557</td>\n",
       "      <td>4.083370</td>\n",
       "      <td>12.788301</td>\n",
       "    </tr>\n",
       "    <tr>\n",
       "      <th>1994</th>\n",
       "      <td>-23.509667</td>\n",
       "      <td>150.307333</td>\n",
       "      <td>26.638174</td>\n",
       "      <td>17.741918</td>\n",
       "      <td>21.780913</td>\n",
       "      <td>1.182374</td>\n",
       "      <td>2.136986</td>\n",
       "      <td>16.605662</td>\n",
       "      <td>4.306785</td>\n",
       "      <td>20.529178</td>\n",
       "    </tr>\n",
       "  </tbody>\n",
       "</table>\n",
       "</div>"
      ],
      "text/plain": [
       "       latitude   longitude  temperature_2m_max  temperature_2m_min  \\\n",
       "Year                                                                  \n",
       "1990 -23.509667  150.307333           26.281005           17.956256   \n",
       "1991 -23.509667  150.307333           26.769772           18.070502   \n",
       "1992 -23.509667  150.307333           26.498543           18.124044   \n",
       "1993 -23.509667  150.307333           26.522922           18.412511   \n",
       "1994 -23.509667  150.307333           26.638174           17.741918   \n",
       "\n",
       "      temperature_2m_mean  precipitation_sum  precipitation_hours  \\\n",
       "Year                                                                \n",
       "1990            21.716895           3.076712             3.219178   \n",
       "1991            22.048584           2.079361             2.764384   \n",
       "1992            21.934699           1.805191             2.595628   \n",
       "1993            22.085845           1.189589             2.369863   \n",
       "1994            21.780913           1.182374             2.136986   \n",
       "\n",
       "      windspeed_10m_max  et0_fao_evapotranspiration  river_discharge  \n",
       "Year                                                                  \n",
       "1990          16.431781                    4.095187       268.974950  \n",
       "1991          15.901826                    4.088767       623.549315  \n",
       "1992          15.569217                    4.119308        35.107650  \n",
       "1993          16.222557                    4.083370        12.788301  \n",
       "1994          16.605662                    4.306785        20.529178  "
      ]
     },
     "execution_count": 6,
     "metadata": {},
     "output_type": "execute_result"
    }
   ],
   "source": [
    "# Group the data by year and location\n",
    "flood_data_yearly = flood_data.groupby(\"Year\").mean(numeric_only=True)\n",
    "flood_data_yearly.head()\n"
   ]
  },
  {
   "cell_type": "code",
   "execution_count": 7,
   "id": "7de2b3b0",
   "metadata": {},
   "outputs": [
    {
     "data": {
      "text/html": [
       "<div>\n",
       "<style scoped>\n",
       "    .dataframe tbody tr th:only-of-type {\n",
       "        vertical-align: middle;\n",
       "    }\n",
       "\n",
       "    .dataframe tbody tr th {\n",
       "        vertical-align: top;\n",
       "    }\n",
       "\n",
       "    .dataframe thead th {\n",
       "        text-align: right;\n",
       "    }\n",
       "</style>\n",
       "<table border=\"1\" class=\"dataframe\">\n",
       "  <thead>\n",
       "    <tr style=\"text-align: right;\">\n",
       "      <th></th>\n",
       "      <th>Year</th>\n",
       "      <th>river_discharge</th>\n",
       "      <th>location</th>\n",
       "    </tr>\n",
       "  </thead>\n",
       "  <tbody>\n",
       "    <tr>\n",
       "      <th>0</th>\n",
       "      <td>1990</td>\n",
       "      <td>33.20</td>\n",
       "      <td>Brisbane</td>\n",
       "    </tr>\n",
       "    <tr>\n",
       "      <th>1</th>\n",
       "      <td>1990</td>\n",
       "      <td>31.58</td>\n",
       "      <td>Brisbane</td>\n",
       "    </tr>\n",
       "    <tr>\n",
       "      <th>2</th>\n",
       "      <td>1990</td>\n",
       "      <td>30.41</td>\n",
       "      <td>Brisbane</td>\n",
       "    </tr>\n",
       "    <tr>\n",
       "      <th>3</th>\n",
       "      <td>1990</td>\n",
       "      <td>29.48</td>\n",
       "      <td>Brisbane</td>\n",
       "    </tr>\n",
       "    <tr>\n",
       "      <th>4</th>\n",
       "      <td>1990</td>\n",
       "      <td>28.85</td>\n",
       "      <td>Brisbane</td>\n",
       "    </tr>\n",
       "  </tbody>\n",
       "</table>\n",
       "</div>"
      ],
      "text/plain": [
       "   Year  river_discharge  location\n",
       "0  1990            33.20  Brisbane\n",
       "1  1990            31.58  Brisbane\n",
       "2  1990            30.41  Brisbane\n",
       "3  1990            29.48  Brisbane\n",
       "4  1990            28.85  Brisbane"
      ]
     },
     "execution_count": 7,
     "metadata": {},
     "output_type": "execute_result"
    }
   ],
   "source": [
    "# Create data set for Year, flood data - river discharge\n",
    "year_flood = flood_data[[\"Year\", \"river_discharge\", \"location\"]]\n",
    "year_flood.head()"
   ]
  },
  {
   "cell_type": "code",
   "execution_count": 8,
   "id": "448fc527",
   "metadata": {
    "scrolled": true
   },
   "outputs": [
    {
     "data": {
      "text/plain": [
       "Year                object\n",
       "river_discharge    float64\n",
       "location            object\n",
       "dtype: object"
      ]
     },
     "execution_count": 8,
     "metadata": {},
     "output_type": "execute_result"
    }
   ],
   "source": [
    "# Check the data type for the series\n",
    "year_flood.dtypes"
   ]
  },
  {
   "cell_type": "code",
   "execution_count": 9,
   "id": "d10fc726",
   "metadata": {},
   "outputs": [
    {
     "name": "stderr",
     "output_type": "stream",
     "text": [
      "/var/folders/mp/sc4qw2553bb18b1y2my327zc0000gn/T/ipykernel_71019/3942185702.py:4: SettingWithCopyWarning: \n",
      "A value is trying to be set on a copy of a slice from a DataFrame.\n",
      "Try using .loc[row_indexer,col_indexer] = value instead\n",
      "\n",
      "See the caveats in the documentation: https://pandas.pydata.org/pandas-docs/stable/user_guide/indexing.html#returning-a-view-versus-a-copy\n",
      "  year_flood['Year'] = year_flood['Year'].astype('int')\n"
     ]
    }
   ],
   "source": [
    "# Convert Year values to integer\n",
    "# year_flood = year_flood.apply[int(pd.to_numeric, errors=\"coerce\")]\n",
    "\n",
    "year_flood['Year'] = year_flood['Year'].astype('int')\n"
   ]
  },
  {
   "cell_type": "code",
   "execution_count": 10,
   "id": "f42374f9",
   "metadata": {},
   "outputs": [
    {
     "data": {
      "text/html": [
       "<div>\n",
       "<style scoped>\n",
       "    .dataframe tbody tr th:only-of-type {\n",
       "        vertical-align: middle;\n",
       "    }\n",
       "\n",
       "    .dataframe tbody tr th {\n",
       "        vertical-align: top;\n",
       "    }\n",
       "\n",
       "    .dataframe thead th {\n",
       "        text-align: right;\n",
       "    }\n",
       "</style>\n",
       "<table border=\"1\" class=\"dataframe\">\n",
       "  <thead>\n",
       "    <tr style=\"text-align: right;\">\n",
       "      <th></th>\n",
       "      <th>Year</th>\n",
       "      <th>river_discharge</th>\n",
       "      <th>location</th>\n",
       "    </tr>\n",
       "  </thead>\n",
       "  <tbody>\n",
       "    <tr>\n",
       "      <th>0</th>\n",
       "      <td>1990</td>\n",
       "      <td>33.20</td>\n",
       "      <td>Brisbane</td>\n",
       "    </tr>\n",
       "    <tr>\n",
       "      <th>1</th>\n",
       "      <td>1990</td>\n",
       "      <td>31.58</td>\n",
       "      <td>Brisbane</td>\n",
       "    </tr>\n",
       "    <tr>\n",
       "      <th>2</th>\n",
       "      <td>1990</td>\n",
       "      <td>30.41</td>\n",
       "      <td>Brisbane</td>\n",
       "    </tr>\n",
       "    <tr>\n",
       "      <th>3</th>\n",
       "      <td>1990</td>\n",
       "      <td>29.48</td>\n",
       "      <td>Brisbane</td>\n",
       "    </tr>\n",
       "    <tr>\n",
       "      <th>4</th>\n",
       "      <td>1990</td>\n",
       "      <td>28.85</td>\n",
       "      <td>Brisbane</td>\n",
       "    </tr>\n",
       "  </tbody>\n",
       "</table>\n",
       "</div>"
      ],
      "text/plain": [
       "   Year  river_discharge  location\n",
       "0  1990            33.20  Brisbane\n",
       "1  1990            31.58  Brisbane\n",
       "2  1990            30.41  Brisbane\n",
       "3  1990            29.48  Brisbane\n",
       "4  1990            28.85  Brisbane"
      ]
     },
     "execution_count": 10,
     "metadata": {},
     "output_type": "execute_result"
    }
   ],
   "source": [
    "# Filter the flood data by each location starting with Brisbane\n",
    "bris_flood_year = year_flood.loc[year_flood[\"location\"] == \"Brisbane\"]\n",
    "bris_flood_year.head()\n"
   ]
  },
  {
   "cell_type": "code",
   "execution_count": 11,
   "id": "b3ffb43e",
   "metadata": {},
   "outputs": [
    {
     "data": {
      "image/png": "[encoded data removed]",
      "text/plain": [
       "<Figure size 1800x600 with 1 Axes>"
      ]
     },
     "metadata": {},
     "output_type": "display_data"
    },
    {
     "data": {
      "text/plain": [
       "<Figure size 640x480 with 0 Axes>"
      ]
     },
     "metadata": {},
     "output_type": "display_data"
    }
   ],
   "source": [
    "# Plot the flood data for Brisbane by year\n",
    "x_values = bris_flood_year [\"Year\"]\n",
    "bris_y_values = bris_flood_year[\"river_discharge\"]\n",
    "fig = plt.figure(figsize=(18,6))\n",
    "plt.plot(x_values,bris_y_values, color=\"darkblue\")\n",
    "plt.xticks(np.arange(min(x_values), max(x_values)+1, 1.0), rotation=45)\n",
    "plt.xlabel(\"Year\")\n",
    "plt.ylabel(\"River discharge (ml)\")\n",
    "plt.savefig(\"visuals/flood_by_year.png\")\n",
    "plt.show()\n",
    "plt.tight_layout()"
   ]
  },
  {
   "cell_type": "code",
   "execution_count": 12,
   "id": "19115e6e",
   "metadata": {},
   "outputs": [
    {
     "data": {
      "text/html": [
       "<div>\n",
       "<style scoped>\n",
       "    .dataframe tbody tr th:only-of-type {\n",
       "        vertical-align: middle;\n",
       "    }\n",
       "\n",
       "    .dataframe tbody tr th {\n",
       "        vertical-align: top;\n",
       "    }\n",
       "\n",
       "    .dataframe thead th {\n",
       "        text-align: right;\n",
       "    }\n",
       "</style>\n",
       "<table border=\"1\" class=\"dataframe\">\n",
       "  <thead>\n",
       "    <tr style=\"text-align: right;\">\n",
       "      <th></th>\n",
       "      <th>Year</th>\n",
       "      <th>river_discharge</th>\n",
       "      <th>location</th>\n",
       "    </tr>\n",
       "  </thead>\n",
       "  <tbody>\n",
       "    <tr>\n",
       "      <th>11324</th>\n",
       "      <td>1990</td>\n",
       "      <td>226.51</td>\n",
       "      <td>Townsville</td>\n",
       "    </tr>\n",
       "    <tr>\n",
       "      <th>11325</th>\n",
       "      <td>1990</td>\n",
       "      <td>256.63</td>\n",
       "      <td>Townsville</td>\n",
       "    </tr>\n",
       "    <tr>\n",
       "      <th>11326</th>\n",
       "      <td>1990</td>\n",
       "      <td>264.46</td>\n",
       "      <td>Townsville</td>\n",
       "    </tr>\n",
       "    <tr>\n",
       "      <th>11327</th>\n",
       "      <td>1990</td>\n",
       "      <td>259.02</td>\n",
       "      <td>Townsville</td>\n",
       "    </tr>\n",
       "    <tr>\n",
       "      <th>11328</th>\n",
       "      <td>1990</td>\n",
       "      <td>246.17</td>\n",
       "      <td>Townsville</td>\n",
       "    </tr>\n",
       "  </tbody>\n",
       "</table>\n",
       "</div>"
      ],
      "text/plain": [
       "       Year  river_discharge    location\n",
       "11324  1990           226.51  Townsville\n",
       "11325  1990           256.63  Townsville\n",
       "11326  1990           264.46  Townsville\n",
       "11327  1990           259.02  Townsville\n",
       "11328  1990           246.17  Townsville"
      ]
     },
     "execution_count": 12,
     "metadata": {},
     "output_type": "execute_result"
    }
   ],
   "source": [
    "# Filter the flood data for Townsville\n",
    "townsville_flood_year = year_flood.loc[year_flood[\"location\"] == \"Townsville\"]\n",
    "townsville_flood_year.head()\n"
   ]
  },
  {
   "cell_type": "code",
   "execution_count": 13,
   "id": "bf0f96a4",
   "metadata": {
    "scrolled": false
   },
   "outputs": [
    {
     "data": {
      "image/png": "[encoded data removed]",
      "text/plain": [
       "<Figure size 1800x600 with 1 Axes>"
      ]
     },
     "metadata": {},
     "output_type": "display_data"
    },
    {
     "data": {
      "text/plain": [
       "<Figure size 640x480 with 0 Axes>"
      ]
     },
     "metadata": {},
     "output_type": "display_data"
    }
   ],
   "source": [
    "# Plot the flood data for Townsville by year\n",
    "x_values = townsville_flood_year [\"Year\"]\n",
    "townsville_y_values = townsville_flood_year[\"river_discharge\"]\n",
    "fig = plt.figure(figsize=(18,6))\n",
    "plt.plot(x_values, townsville_y_values, color=\"darkgreen\")\n",
    "plt.xticks(np.arange(min(x_values), max(x_values)+1, 1.0), rotation=45)\n",
    "plt.xlabel(\"Year\")\n",
    "plt.ylabel(\"River discharge (ml)\")\n",
    "plt.savefig(\"visuals/flood_by_year.png\")\n",
    "\n",
    "plt.show()\n",
    "plt.tight_layout()"
   ]
  },
  {
   "cell_type": "code",
   "execution_count": 14,
   "id": "f381d650",
   "metadata": {
    "scrolled": true
   },
   "outputs": [
    {
     "name": "stderr",
     "output_type": "stream",
     "text": [
      "/var/folders/mp/sc4qw2553bb18b1y2my327zc0000gn/T/ipykernel_71019/1973340520.py:1: SettingWithCopyWarning: \n",
      "A value is trying to be set on a copy of a slice from a DataFrame.\n",
      "Try using .loc[row_indexer,col_indexer] = value instead\n",
      "\n",
      "See the caveats in the documentation: https://pandas.pydata.org/pandas-docs/stable/user_guide/indexing.html#returning-a-view-versus-a-copy\n",
      "  year_flood['Year'] = year_flood['Year'].astype('int')\n"
     ]
    }
   ],
   "source": [
    "year_flood['Year'] = year_flood['Year'].astype('int')"
   ]
  },
  {
   "cell_type": "code",
   "execution_count": 15,
   "id": "5600bdea",
   "metadata": {},
   "outputs": [
    {
     "data": {
      "image/png": "[encoded data removed]",
      "text/plain": [
       "<Figure size 640x480 with 1 Axes>"
      ]
     },
     "metadata": {},
     "output_type": "display_data"
    },
    {
     "data": {
      "text/plain": [
       "<Figure size 640x480 with 0 Axes>"
      ]
     },
     "metadata": {},
     "output_type": "display_data"
    }
   ],
   "source": [
    "# Plot both on the same chart\n",
    "plt.plot(x_values, bris_y_values, \"-b\", label=\"Brisbane\")\n",
    "plt.plot(x_values, townsville_y_values, \"-r\", label=\"Townsville\")\n",
    "plt.legend(loc=\"upper left\")\n",
    "\n",
    "#Add plot grid\n",
    "plt.grid(True)\n",
    "\n",
    "#Add plot labels\n",
    "plt.title(\"Comparison of river discharge by year for Brisbane and Townsville\")\n",
    "plt.xlabel(\"Year\")\n",
    "plt.ylabel(\"Average River Discharge (cumecs)\")\n",
    "\n",
    "#Display the line graph\n",
    "plt.show()\n",
    "plt.tight_layout()\n",
    "\n",
    "#Save as a png\n",
    "plt.savefig(\"visuals/flood_comparison.png\")"
   ]
  },
  {
   "cell_type": "code",
   "execution_count": 16,
   "id": "4e9e6ad9",
   "metadata": {
    "scrolled": true
   },
   "outputs": [
    {
     "data": {
      "text/html": [
       "<div>\n",
       "<style scoped>\n",
       "    .dataframe tbody tr th:only-of-type {\n",
       "        vertical-align: middle;\n",
       "    }\n",
       "\n",
       "    .dataframe tbody tr th {\n",
       "        vertical-align: top;\n",
       "    }\n",
       "\n",
       "    .dataframe thead th {\n",
       "        text-align: right;\n",
       "    }\n",
       "</style>\n",
       "<table border=\"1\" class=\"dataframe\">\n",
       "  <thead>\n",
       "    <tr style=\"text-align: right;\">\n",
       "      <th></th>\n",
       "      <th>Year</th>\n",
       "      <th>precipitation_sum</th>\n",
       "      <th>location</th>\n",
       "    </tr>\n",
       "  </thead>\n",
       "  <tbody>\n",
       "    <tr>\n",
       "      <th>0</th>\n",
       "      <td>1990</td>\n",
       "      <td>0.0</td>\n",
       "      <td>Brisbane</td>\n",
       "    </tr>\n",
       "    <tr>\n",
       "      <th>1</th>\n",
       "      <td>1990</td>\n",
       "      <td>0.0</td>\n",
       "      <td>Brisbane</td>\n",
       "    </tr>\n",
       "    <tr>\n",
       "      <th>2</th>\n",
       "      <td>1990</td>\n",
       "      <td>0.0</td>\n",
       "      <td>Brisbane</td>\n",
       "    </tr>\n",
       "    <tr>\n",
       "      <th>3</th>\n",
       "      <td>1990</td>\n",
       "      <td>0.0</td>\n",
       "      <td>Brisbane</td>\n",
       "    </tr>\n",
       "    <tr>\n",
       "      <th>4</th>\n",
       "      <td>1990</td>\n",
       "      <td>0.0</td>\n",
       "      <td>Brisbane</td>\n",
       "    </tr>\n",
       "  </tbody>\n",
       "</table>\n",
       "</div>"
      ],
      "text/plain": [
       "   Year  precipitation_sum  location\n",
       "0  1990                0.0  Brisbane\n",
       "1  1990                0.0  Brisbane\n",
       "2  1990                0.0  Brisbane\n",
       "3  1990                0.0  Brisbane\n",
       "4  1990                0.0  Brisbane"
      ]
     },
     "execution_count": 16,
     "metadata": {},
     "output_type": "execute_result"
    }
   ],
   "source": [
    "#Create dataset for Year vs Rainfall for each of the cities\n",
    "# Create data set for Year, flood data - river discharge\n",
    "year_rainfall = flood_data[[\"Year\", \"precipitation_sum\", \"location\"]]\n",
    "year_rainfall.head()"
   ]
  },
  {
   "cell_type": "code",
   "execution_count": 17,
   "id": "c6aa43e3",
   "metadata": {},
   "outputs": [
    {
     "data": {
      "text/plain": [
       "Year                  object\n",
       "precipitation_sum    float64\n",
       "location              object\n",
       "dtype: object"
      ]
     },
     "execution_count": 17,
     "metadata": {},
     "output_type": "execute_result"
    }
   ],
   "source": [
    "# Check the data type for the series\n",
    "year_rainfall.dtypes"
   ]
  },
  {
   "cell_type": "code",
   "execution_count": 18,
   "id": "c8abc26f",
   "metadata": {},
   "outputs": [
    {
     "name": "stderr",
     "output_type": "stream",
     "text": [
      "/var/folders/mp/sc4qw2553bb18b1y2my327zc0000gn/T/ipykernel_71019/2313158848.py:2: SettingWithCopyWarning: \n",
      "A value is trying to be set on a copy of a slice from a DataFrame.\n",
      "Try using .loc[row_indexer,col_indexer] = value instead\n",
      "\n",
      "See the caveats in the documentation: https://pandas.pydata.org/pandas-docs/stable/user_guide/indexing.html#returning-a-view-versus-a-copy\n",
      "  year_rainfall['Year'] = year_rainfall['Year'].astype('int')\n"
     ]
    }
   ],
   "source": [
    "# Convert Year values to integer\n",
    "year_rainfall['Year'] = year_rainfall['Year'].astype('int')"
   ]
  },
  {
   "cell_type": "code",
   "execution_count": 19,
   "id": "53ac30e3",
   "metadata": {},
   "outputs": [
    {
     "data": {
      "text/html": [
       "<div>\n",
       "<style scoped>\n",
       "    .dataframe tbody tr th:only-of-type {\n",
       "        vertical-align: middle;\n",
       "    }\n",
       "\n",
       "    .dataframe tbody tr th {\n",
       "        vertical-align: top;\n",
       "    }\n",
       "\n",
       "    .dataframe thead th {\n",
       "        text-align: right;\n",
       "    }\n",
       "</style>\n",
       "<table border=\"1\" class=\"dataframe\">\n",
       "  <thead>\n",
       "    <tr style=\"text-align: right;\">\n",
       "      <th></th>\n",
       "      <th>Year</th>\n",
       "      <th>precipitation_sum</th>\n",
       "      <th>location</th>\n",
       "    </tr>\n",
       "  </thead>\n",
       "  <tbody>\n",
       "    <tr>\n",
       "      <th>0</th>\n",
       "      <td>1990</td>\n",
       "      <td>0.0</td>\n",
       "      <td>Brisbane</td>\n",
       "    </tr>\n",
       "    <tr>\n",
       "      <th>1</th>\n",
       "      <td>1990</td>\n",
       "      <td>0.0</td>\n",
       "      <td>Brisbane</td>\n",
       "    </tr>\n",
       "    <tr>\n",
       "      <th>2</th>\n",
       "      <td>1990</td>\n",
       "      <td>0.0</td>\n",
       "      <td>Brisbane</td>\n",
       "    </tr>\n",
       "    <tr>\n",
       "      <th>3</th>\n",
       "      <td>1990</td>\n",
       "      <td>0.0</td>\n",
       "      <td>Brisbane</td>\n",
       "    </tr>\n",
       "    <tr>\n",
       "      <th>4</th>\n",
       "      <td>1990</td>\n",
       "      <td>0.0</td>\n",
       "      <td>Brisbane</td>\n",
       "    </tr>\n",
       "  </tbody>\n",
       "</table>\n",
       "</div>"
      ],
      "text/plain": [
       "   Year  precipitation_sum  location\n",
       "0  1990                0.0  Brisbane\n",
       "1  1990                0.0  Brisbane\n",
       "2  1990                0.0  Brisbane\n",
       "3  1990                0.0  Brisbane\n",
       "4  1990                0.0  Brisbane"
      ]
     },
     "execution_count": 19,
     "metadata": {},
     "output_type": "execute_result"
    }
   ],
   "source": [
    "# Filter the rainfall data by each location starting with Brisbane\n",
    "bris_rainfall_year = year_rainfall.loc[year_rainfall[\"location\"] == \"Brisbane\"]\n",
    "bris_rainfall_year.head()"
   ]
  },
  {
   "cell_type": "code",
   "execution_count": 20,
   "id": "55de8fd7",
   "metadata": {},
   "outputs": [
    {
     "data": {
      "image/png": "[encoded data removed]",
      "text/plain": [
       "<Figure size 1800x600 with 1 Axes>"
      ]
     },
     "metadata": {},
     "output_type": "display_data"
    },
    {
     "data": {
      "text/plain": [
       "<Figure size 640x480 with 0 Axes>"
      ]
     },
     "metadata": {},
     "output_type": "display_data"
    }
   ],
   "source": [
    "# Plot the rainfall data for Brisbane by year\n",
    "# Add the values\n",
    "x_values = bris_rainfall_year [\"Year\"]\n",
    "bris_rainfall_y_values = bris_rainfall_year[\"precipitation_sum\"]\n",
    "\n",
    "# Create the graph\n",
    "fig = plt.figure(figsize=(18,6))\n",
    "plt.plot(x_values,bris_y_values, color=\"darkblue\")\n",
    "\n",
    "#Create x ticks\n",
    "plt.xticks(np.arange(min(x_values), max(x_values)+1, 1.0), rotation=45)\n",
    "\n",
    "# Create labels and title\n",
    "plt.xlabel(\"Year\")\n",
    "plt.ylabel(\"Average rainfall\")\n",
    "plt.show()\n",
    "plt.tight_layout()"
   ]
  },
  {
   "cell_type": "code",
   "execution_count": 21,
   "id": "4f78cfa8",
   "metadata": {},
   "outputs": [
    {
     "data": {
      "text/html": [
       "<div>\n",
       "<style scoped>\n",
       "    .dataframe tbody tr th:only-of-type {\n",
       "        vertical-align: middle;\n",
       "    }\n",
       "\n",
       "    .dataframe tbody tr th {\n",
       "        vertical-align: top;\n",
       "    }\n",
       "\n",
       "    .dataframe thead th {\n",
       "        text-align: right;\n",
       "    }\n",
       "</style>\n",
       "<table border=\"1\" class=\"dataframe\">\n",
       "  <thead>\n",
       "    <tr style=\"text-align: right;\">\n",
       "      <th></th>\n",
       "      <th>Year</th>\n",
       "      <th>precipitation_sum</th>\n",
       "      <th>location</th>\n",
       "    </tr>\n",
       "  </thead>\n",
       "  <tbody>\n",
       "    <tr>\n",
       "      <th>11324</th>\n",
       "      <td>1990</td>\n",
       "      <td>0.0</td>\n",
       "      <td>Townsville</td>\n",
       "    </tr>\n",
       "    <tr>\n",
       "      <th>11325</th>\n",
       "      <td>1990</td>\n",
       "      <td>0.0</td>\n",
       "      <td>Townsville</td>\n",
       "    </tr>\n",
       "    <tr>\n",
       "      <th>11326</th>\n",
       "      <td>1990</td>\n",
       "      <td>0.0</td>\n",
       "      <td>Townsville</td>\n",
       "    </tr>\n",
       "    <tr>\n",
       "      <th>11327</th>\n",
       "      <td>1990</td>\n",
       "      <td>0.0</td>\n",
       "      <td>Townsville</td>\n",
       "    </tr>\n",
       "    <tr>\n",
       "      <th>11328</th>\n",
       "      <td>1990</td>\n",
       "      <td>0.5</td>\n",
       "      <td>Townsville</td>\n",
       "    </tr>\n",
       "  </tbody>\n",
       "</table>\n",
       "</div>"
      ],
      "text/plain": [
       "       Year  precipitation_sum    location\n",
       "11324  1990                0.0  Townsville\n",
       "11325  1990                0.0  Townsville\n",
       "11326  1990                0.0  Townsville\n",
       "11327  1990                0.0  Townsville\n",
       "11328  1990                0.5  Townsville"
      ]
     },
     "execution_count": 21,
     "metadata": {},
     "output_type": "execute_result"
    }
   ],
   "source": [
    "# Filter the rainfall data by each location starting with Townsville\n",
    "townsville_rainfall_year = year_rainfall.loc[year_rainfall[\"location\"] == \"Townsville\"]\n",
    "townsville_rainfall_year.head()"
   ]
  },
  {
   "cell_type": "code",
   "execution_count": 22,
   "id": "b0fcabb1",
   "metadata": {},
   "outputs": [
    {
     "data": {
      "image/png": "[encoded data removed]",
      "text/plain": [
       "<Figure size 1800x600 with 1 Axes>"
      ]
     },
     "metadata": {},
     "output_type": "display_data"
    },
    {
     "data": {
      "text/plain": [
       "<Figure size 640x480 with 0 Axes>"
      ]
     },
     "metadata": {},
     "output_type": "display_data"
    }
   ],
   "source": [
    "# Plot the rainfall data for Townsville by year\n",
    "x_values = townsville_rainfall_year [\"Year\"]\n",
    "townsville_rainfall_y_values = townsville_rainfall_year[\"precipitation_sum\"]\n",
    "fig = plt.figure(figsize=(18,6))\n",
    "plt.plot(x_values,bris_y_values, color=\"darkgreen\")\n",
    "plt.xticks(np.arange(min(x_values), max(x_values)+1, 1.0), rotation=45)\n",
    "plt.xlabel(\"Year\")\n",
    "plt.ylabel(\"Average rainfall\")\n",
    "plt.show()\n",
    "plt.tight_layout()"
   ]
  },
  {
   "cell_type": "code",
   "execution_count": 23,
   "id": "ef278802",
   "metadata": {},
   "outputs": [
    {
     "data": {
      "image/png": "[encoded data removed]",
      "text/plain": [
       "<Figure size 640x480 with 1 Axes>"
      ]
     },
     "metadata": {},
     "output_type": "display_data"
    },
    {
     "data": {
      "text/plain": [
       "<Figure size 640x480 with 0 Axes>"
      ]
     },
     "metadata": {},
     "output_type": "display_data"
    }
   ],
   "source": [
    "# Plot the two cities and compare rainfall for each\n",
    "# Plot both on the same chart\n",
    "plt.plot(x_values, bris_rainfall_y_values, \"-b\", label=\"Brisbane\")\n",
    "plt.plot(x_values, townsville_rainfall_y_values, \"-r\", label=\"Townsville\")\n",
    "plt.legend(loc=\"upper right\")\n",
    "\n",
    "#Add plot grid\n",
    "plt.grid(True)\n",
    "\n",
    "#Add plot labels\n",
    "plt.title(\"Comparison of average rainfall by year for Brisbane and Townsville\")\n",
    "plt.xlabel(\"Year\")\n",
    "plt.ylabel(\"Average rainfall (mm)\")\n",
    "\n",
    "#Display the line graph\n",
    "plt.show()\n",
    "plt.tight_layout()\n",
    "\n",
    "#Save as a png\n",
    "plt.savefig(\"visuals/rainfall_comparison.png\")"
   ]
  },
  {
   "cell_type": "markdown",
   "id": "bd5b0748",
   "metadata": {},
   "source": [
    "## Final analysis\n",
    "\n",
    "\n",
    "### - The average rainfall for Brisbane is higher than Townsville\n",
    "\n",
    "### - The average river discharge which can be the assumed as flood risk is greater in Townsville compared to Brisbane even though the average rainfall is higher in Brisbane\n",
    "\n",
    "### - We can conclude a null hypothesis that increased rainfall equals increased river discharge and therefore flood risk for the two cities\n",
    "\n",
    "### - River discharge has not increased in severity over time, there is no pattern for higher than average river discharge for either city resulting in a null hypothesis\n",
    "\n",
    "### - Rainfall average mm has increased above 75mm in the last 10 years compared to previous years where there were peaks above 150 and dips below 50. Average rainfall has been consistently more severe from 2010 - 2020 compared with 1990 to 2010 where there are 3 sharp peaks and lower average rainfall."
   ]
  }
 ],
 "metadata": {
  "kernelspec": {
   "display_name": "Python 3 (ipykernel)",
   "language": "python",
   "name": "python3"
  },
  "language_info": {
   "codemirror_mode": {
    "name": "ipython",
    "version": 3
   },
   "file_extension": ".py",
   "mimetype": "text/x-python",
   "name": "python",
   "nbconvert_exporter": "python",
   "pygments_lexer": "ipython3",
   "version": "3.11.3"
  }
 },
 "nbformat": 4,
 "nbformat_minor": 5
}
