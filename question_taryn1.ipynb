{
 "cells": [
  {
   "cell_type": "markdown",
   "id": "4bc2d6db",
   "metadata": {},
   "source": [
    "# flood-analysis\n",
    "\n",
    "Analysing the impact of climate change on Queensland Cattle markets, intermediated by increased flood events\n",
    "\n",
    "\n",
    "## Questions\n",
    "\n",
    "### Question 1: Understand the shape of flooding data over time\n",
    "Taryn\n",
    "\n",
    "**Hypotheses**\n",
    "- Flood data will be highly seasonal from year to year\n",
    "- La Nina / El Nino multi-year cycles will be evident across multi-year cycles\n",
    "- The frequency of floods will increase over the last few decades\n",
    "\n",
    "**Data sources**\n",
    "- Open Meteo Flood API (GloFAS), 1990-2020, Queensland\n",
    "\n",
    "**Visualisation**\n",
    "- Seasonality time series\n",
    "- Autoregression"
   ]
  },
  {
   "cell_type": "code",
   "execution_count": 2,
   "id": "bd23834e",
   "metadata": {},
   "outputs": [],
   "source": [
    "import pandas as pd\n"
   ]
  },
  {
   "cell_type": "code",
   "execution_count": null,
   "id": "412a4168",
   "metadata": {},
   "outputs": [],
   "source": []
  }
 ],
 "metadata": {
  "kernelspec": {
   "display_name": "Python 3 (ipykernel)",
   "language": "python",
   "name": "python3"
  },
  "language_info": {
   "codemirror_mode": {
    "name": "ipython",
    "version": 3
   },
   "file_extension": ".py",
   "mimetype": "text/x-python",
   "name": "python",
   "nbconvert_exporter": "python",
   "pygments_lexer": "ipython3",
   "version": "3.10.11"
  }
 },
 "nbformat": 4,
 "nbformat_minor": 5
}
